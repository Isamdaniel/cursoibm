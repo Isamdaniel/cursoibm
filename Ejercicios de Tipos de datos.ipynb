{
 "cells": [
  {
   "cell_type": "code",
   "execution_count": 1,
   "id": "866f8c07-0d1f-4add-8f0d-cfa9bd92fb26",
   "metadata": {},
   "outputs": [
    {
     "name": "stdout",
     "output_type": "stream",
     "text": [
      "hola mundo\n"
     ]
    }
   ],
   "source": [
    "# EJERCICIO 1:Escribir un programa que muestre por pantalla la cadena ¡Hola Mundo!.\n",
    "\n",
    "print('hola mundo')\n"
   ]
  },
  {
   "cell_type": "code",
   "execution_count": 2,
   "id": "387997f9-855e-43fd-b7df-5034f5f1889f",
   "metadata": {},
   "outputs": [
    {
     "name": "stdout",
     "output_type": "stream",
     "text": [
      "Hola Mundo\n"
     ]
    }
   ],
   "source": [
    "#EJERCICIO 2: Escribir un programa que almacene la cadena ¡Hola Mundo! en una variable y luego muestre por pantalla el contenido de la variable.\n",
    "\n",
    "x='Hola Mundo'\n",
    "print(x)"
   ]
  },
  {
   "cell_type": "code",
   "execution_count": 5,
   "id": "edca2f42-5842-48f1-9a3a-26fb7616ddd5",
   "metadata": {},
   "outputs": [
    {
     "name": "stdin",
     "output_type": "stream",
     "text": [
      "Introduce el nombre: Isam\n"
     ]
    },
    {
     "name": "stdout",
     "output_type": "stream",
     "text": [
      "Hola Isam\n"
     ]
    }
   ],
   "source": [
    "# EJERCICIO 3: Escribir un programa que pregunte el nombre del usuario en la consola y \n",
    "#después de que el usuario lo introduzca muestre por pantalla la cadena ¡Hola <nombre>!, \n",
    "#donde <nombre> es el nombre que el usuario haya introducido.\n",
    "\n",
    "nombre=input('Introduce el nombre:')\n",
    "print('Hola',nombre)"
   ]
  },
  {
   "cell_type": "code",
   "execution_count": 6,
   "id": "8feb589d-361d-41b5-bdb0-d50a57c41ae6",
   "metadata": {},
   "outputs": [
    {
     "name": "stdout",
     "output_type": "stream",
     "text": [
      "El resultado de la operación matemática es: 0.25\n"
     ]
    }
   ],
   "source": [
    "# Ejercicio 4: Escribir un programa que muestre por pantalla el resultado de la siguiente operación aritmética \n",
    "import math\n",
    "x=((3+2)/(2*5))**2\n",
    "print('El resultado de la operación matemática es:',x)"
   ]
  },
  {
   "cell_type": "code",
   "execution_count": 14,
   "id": "bac18172-a45b-45aa-a74e-6ac3eeb4fe2e",
   "metadata": {},
   "outputs": [
    {
     "name": "stdin",
     "output_type": "stream",
     "text": [
      "¿Cuántas horas trabajas? 8\n",
      "¿Cuánto es el coste por hora? 10\n"
     ]
    },
    {
     "name": "stdout",
     "output_type": "stream",
     "text": [
      "La paga que te corresponde es: 80.0\n"
     ]
    }
   ],
   "source": [
    "# Ejercicio 5: Escribir un programa que pregunte al usuario por el número de horas trabajadas y el coste por hora.\n",
    "# Después debe mostrar por pantalla la paga que le corresponde.\n",
    "horas=float(input('¿Cuántas horas trabajas?'))\n",
    "coste=float(input('¿Cuánto es el coste por hora?'))\n",
    "paga=coste*horas\n",
    "print('La paga que te corresponde es:',paga)\n",
    "            "
   ]
  },
  {
   "cell_type": "code",
   "execution_count": 16,
   "id": "51ea4b3d-1663-45c8-b13a-d41be16b1388",
   "metadata": {},
   "outputs": [
    {
     "name": "stdin",
     "output_type": "stream",
     "text": [
      "Introduce un número entero positivo: 5\n"
     ]
    },
    {
     "name": "stdout",
     "output_type": "stream",
     "text": [
      "La suma de todos los enteros desde 1 hasta n es: 15.0\n"
     ]
    }
   ],
   "source": [
    "# Ejercicio 6: Escribir un programa que lea un entero positivo, \n",
    "# introducido por el usuario y después muestre en pantalla la suma de todos los enteros desde 1 hasta n\n",
    "n=int(input('Introduce un número entero positivo:'))\n",
    "suma=n*(n+1)/2\n",
    "print('La suma de todos los enteros desde 1 hasta n es:',suma)"
   ]
  },
  {
   "cell_type": "markdown",
   "id": "ce10efd5-2559-4ab5-854b-e6480eae8bd7",
   "metadata": {},
   "source": [
    "### EJERCICIO 7: Escribir un programa que pida al usuario su peso (en kg) y estatura (en metros), calcule el índice de masa corporal y lo almacene en una variable, y muestre por pantalla la frase \n",
    "#Tu índice de masa corporal es <imc> donde <imc> es el índice de masa corporal calculado redondeado con dos decimales.\n",
    "\n",
    "\n",
    "peso=float(input('Introduce tu peso, en kg, por favor:'))\n",
    "estatura=float(input('Introduce tu estatura, en metros, por favor:'))\n",
    "\n",
    "#Para seleccionar el número de decimales que queremos usamos round(numero que queremos redondear, numero de digitos)\n",
    "\n",
    "imc=round(peso/estatura**2,2)\n",
    "print('Tu indice de masa corporal es:', imc)\n"
   ]
  },
  {
   "cell_type": "code",
   "execution_count": 20,
   "id": "ad882c0a-0dc2-4622-95b1-c5cafa1eedc1",
   "metadata": {},
   "outputs": [
    {
     "name": "stdin",
     "output_type": "stream",
     "text": [
      "Introduce un numerador: 5\n",
      "Introduce un denominador: 5\n"
     ]
    },
    {
     "name": "stdout",
     "output_type": "stream",
     "text": [
      " La división entre 5.0 y 5.0 \n",
      " da un cociente 1.0 \n",
      " y un resto 0.0\n",
      "(1.0, 0.0)\n"
     ]
    }
   ],
   "source": [
    "# EJERCICIO 8: scribir un programa que pida al usuario dos números enteros y muestre por pantalla la <n> entre <m>\n",
    "#da un cociente <c> y un resto <r> donde <n> y <m> son los números introducidos por el usuario,\n",
    "#y <c> y <r> son el cociente y el resto de la división entera respectivamente.\n",
    "\n",
    "n=float(input('Introduce un numerador:'))\n",
    "m=float(input('Introduce un denominador:'))\n",
    "\n",
    "#Método 1.\n",
    "c=n//m # Obtenemos el cociente\n",
    "r=n%m # Obtenemos el resto\n",
    "print(' La división entre',n,'y',m,'\\n da un cociente',c,'\\n y un resto',r)\n",
    "\n",
    "#Método 2. \n",
    "#Utilizamos el comando divmod(numerador,denominador). Nos da como salida(cociente, resto)\n",
    "print(divmod(n,m))\n"
   ]
  },
  {
   "cell_type": "code",
   "execution_count": null,
   "id": "71a57bfe-cdf6-4f52-ba24-529043d9fc33",
   "metadata": {},
   "outputs": [],
   "source": []
  }
 ],
 "metadata": {
  "kernelspec": {
   "display_name": "Python 3 (ipykernel)",
   "language": "python",
   "name": "python3"
  },
  "language_info": {
   "codemirror_mode": {
    "name": "ipython",
    "version": 3
   },
   "file_extension": ".py",
   "mimetype": "text/x-python",
   "name": "python",
   "nbconvert_exporter": "python",
   "pygments_lexer": "ipython3",
   "version": "3.11.7"
  }
 },
 "nbformat": 4,
 "nbformat_minor": 5
}
